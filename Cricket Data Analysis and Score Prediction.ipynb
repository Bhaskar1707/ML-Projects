{
 "cells": [
  {
   "cell_type": "markdown",
   "id": "4ab69c78",
   "metadata": {},
   "source": [
    "# Cricket Data analysis and Score prediction"
   ]
  },
  {
   "cell_type": "code",
   "execution_count": 7,
   "id": "1d4bb9f6",
   "metadata": {},
   "outputs": [],
   "source": [
    "import numpy as np\n",
    "import pandas as pd\n",
    "import matplotlib.pyplot as plt\n",
    "%matplotlib inline\n",
    "import seaborn as sns"
   ]
  },
  {
   "cell_type": "code",
   "execution_count": 223,
   "id": "dd1705c3",
   "metadata": {},
   "outputs": [],
   "source": [
    "df = pd.read_csv('cricket data.csv') "
   ]
  },
  {
   "cell_type": "markdown",
   "id": "df190301",
   "metadata": {},
   "source": [
    "df.head()"
   ]
  },
  {
   "cell_type": "markdown",
   "id": "9525f770",
   "metadata": {},
   "source": [
    "# Droping NA values from the dataset  "
   ]
  },
  {
   "cell_type": "code",
   "execution_count": 224,
   "id": "c5dc70d7",
   "metadata": {},
   "outputs": [
    {
     "data": {
      "text/html": [
       "<div>\n",
       "<style scoped>\n",
       "    .dataframe tbody tr th:only-of-type {\n",
       "        vertical-align: middle;\n",
       "    }\n",
       "\n",
       "    .dataframe tbody tr th {\n",
       "        vertical-align: top;\n",
       "    }\n",
       "\n",
       "    .dataframe thead th {\n",
       "        text-align: right;\n",
       "    }\n",
       "</style>\n",
       "<table border=\"1\" class=\"dataframe\">\n",
       "  <thead>\n",
       "    <tr style=\"text-align: right;\">\n",
       "      <th></th>\n",
       "      <th>Batsman</th>\n",
       "      <th>Runs</th>\n",
       "      <th>Mins</th>\n",
       "      <th>BF</th>\n",
       "      <th>4s</th>\n",
       "      <th>6s</th>\n",
       "      <th>SR</th>\n",
       "      <th>Pos</th>\n",
       "      <th>Dismissal</th>\n",
       "      <th>Inns</th>\n",
       "    </tr>\n",
       "  </thead>\n",
       "  <tbody>\n",
       "    <tr>\n",
       "      <th>0</th>\n",
       "      <td>1</td>\n",
       "      <td>33</td>\n",
       "      <td>78.0</td>\n",
       "      <td>56</td>\n",
       "      <td>5</td>\n",
       "      <td>0</td>\n",
       "      <td>58.92</td>\n",
       "      <td>3</td>\n",
       "      <td>caught</td>\n",
       "      <td>2</td>\n",
       "    </tr>\n",
       "    <tr>\n",
       "      <th>1</th>\n",
       "      <td>1</td>\n",
       "      <td>33</td>\n",
       "      <td>77.0</td>\n",
       "      <td>49</td>\n",
       "      <td>6</td>\n",
       "      <td>0</td>\n",
       "      <td>67.34</td>\n",
       "      <td>3</td>\n",
       "      <td>caught</td>\n",
       "      <td>4</td>\n",
       "    </tr>\n",
       "    <tr>\n",
       "      <th>2</th>\n",
       "      <td>1</td>\n",
       "      <td>215</td>\n",
       "      <td>503.0</td>\n",
       "      <td>346</td>\n",
       "      <td>25</td>\n",
       "      <td>1</td>\n",
       "      <td>62.13</td>\n",
       "      <td>3</td>\n",
       "      <td>lbw</td>\n",
       "      <td>1</td>\n",
       "    </tr>\n",
       "    <tr>\n",
       "      <th>3</th>\n",
       "      <td>1</td>\n",
       "      <td>58</td>\n",
       "      <td>67.0</td>\n",
       "      <td>48</td>\n",
       "      <td>9</td>\n",
       "      <td>0</td>\n",
       "      <td>120.83</td>\n",
       "      <td>3</td>\n",
       "      <td>bowled</td>\n",
       "      <td>3</td>\n",
       "    </tr>\n",
       "    <tr>\n",
       "      <th>4</th>\n",
       "      <td>1</td>\n",
       "      <td>7</td>\n",
       "      <td>26.0</td>\n",
       "      <td>18</td>\n",
       "      <td>1</td>\n",
       "      <td>0</td>\n",
       "      <td>38.88</td>\n",
       "      <td>3</td>\n",
       "      <td>caught</td>\n",
       "      <td>1</td>\n",
       "    </tr>\n",
       "    <tr>\n",
       "      <th>...</th>\n",
       "      <td>...</td>\n",
       "      <td>...</td>\n",
       "      <td>...</td>\n",
       "      <td>...</td>\n",
       "      <td>...</td>\n",
       "      <td>...</td>\n",
       "      <td>...</td>\n",
       "      <td>...</td>\n",
       "      <td>...</td>\n",
       "      <td>...</td>\n",
       "    </tr>\n",
       "    <tr>\n",
       "      <th>287</th>\n",
       "      <td>6</td>\n",
       "      <td>78</td>\n",
       "      <td>216.0</td>\n",
       "      <td>155</td>\n",
       "      <td>8</td>\n",
       "      <td>0</td>\n",
       "      <td>50.32</td>\n",
       "      <td>1</td>\n",
       "      <td>caught</td>\n",
       "      <td>3</td>\n",
       "    </tr>\n",
       "    <tr>\n",
       "      <th>288</th>\n",
       "      <td>6</td>\n",
       "      <td>9</td>\n",
       "      <td>39.0</td>\n",
       "      <td>34</td>\n",
       "      <td>0</td>\n",
       "      <td>0</td>\n",
       "      <td>26.47</td>\n",
       "      <td>1</td>\n",
       "      <td>lbw</td>\n",
       "      <td>1</td>\n",
       "    </tr>\n",
       "    <tr>\n",
       "      <th>289</th>\n",
       "      <td>6</td>\n",
       "      <td>12</td>\n",
       "      <td>51.0</td>\n",
       "      <td>38</td>\n",
       "      <td>2</td>\n",
       "      <td>0</td>\n",
       "      <td>31.57</td>\n",
       "      <td>1</td>\n",
       "      <td>stumped</td>\n",
       "      <td>3</td>\n",
       "    </tr>\n",
       "    <tr>\n",
       "      <th>290</th>\n",
       "      <td>6</td>\n",
       "      <td>39</td>\n",
       "      <td>87.0</td>\n",
       "      <td>67</td>\n",
       "      <td>6</td>\n",
       "      <td>1</td>\n",
       "      <td>58.20</td>\n",
       "      <td>5</td>\n",
       "      <td>caught</td>\n",
       "      <td>2</td>\n",
       "    </tr>\n",
       "    <tr>\n",
       "      <th>291</th>\n",
       "      <td>6</td>\n",
       "      <td>0</td>\n",
       "      <td>2.0</td>\n",
       "      <td>4</td>\n",
       "      <td>0</td>\n",
       "      <td>0</td>\n",
       "      <td>0.00</td>\n",
       "      <td>1</td>\n",
       "      <td>bowled</td>\n",
       "      <td>4</td>\n",
       "    </tr>\n",
       "  </tbody>\n",
       "</table>\n",
       "<p>292 rows × 10 columns</p>\n",
       "</div>"
      ],
      "text/plain": [
       "     Batsman  Runs   Mins   BF  4s  6s      SR  Pos Dismissal  Inns\n",
       "0          1    33   78.0   56   5   0   58.92    3    caught     2\n",
       "1          1    33   77.0   49   6   0   67.34    3    caught     4\n",
       "2          1   215  503.0  346  25   1   62.13    3       lbw     1\n",
       "3          1    58   67.0   48   9   0  120.83    3    bowled     3\n",
       "4          1     7   26.0   18   1   0   38.88    3    caught     1\n",
       "..       ...   ...    ...  ...  ..  ..     ...  ...       ...   ...\n",
       "287        6    78  216.0  155   8   0   50.32    1    caught     3\n",
       "288        6     9   39.0   34   0   0   26.47    1       lbw     1\n",
       "289        6    12   51.0   38   2   0   31.57    1   stumped     3\n",
       "290        6    39   87.0   67   6   1   58.20    5    caught     2\n",
       "291        6     0    2.0    4   0   0    0.00    1    bowled     4\n",
       "\n",
       "[292 rows x 10 columns]"
      ]
     },
     "execution_count": 224,
     "metadata": {},
     "output_type": "execute_result"
    }
   ],
   "source": [
    "cd=df\n",
    "cd.dropna()"
   ]
  },
  {
   "cell_type": "markdown",
   "id": "44dabd6e",
   "metadata": {},
   "source": [
    "# Total Runs by each Batsman"
   ]
  },
  {
   "cell_type": "code",
   "execution_count": 225,
   "id": "df0b3579",
   "metadata": {},
   "outputs": [],
   "source": [
    "batsman1 = cd[(cd.Batsman==1)]\n",
    "batsman2 = cd[(cd.Batsman==2)]\n",
    "batsman3 = cd[(cd.Batsman==3)]\n",
    "batsman4 = cd[(cd.Batsman==4)]\n",
    "batsman5 = cd[(cd.Batsman==5)]\n",
    "batsman6 = cd[(cd.Batsman==6)]    "
   ]
  },
  {
   "cell_type": "code",
   "execution_count": 226,
   "id": "887542c8",
   "metadata": {},
   "outputs": [],
   "source": [
    "Total_runs_each_batsman = cd[['Batsman','Runs']].groupby('Batsman').sum()"
   ]
  },
  {
   "cell_type": "code",
   "execution_count": 227,
   "id": "5c8256a7",
   "metadata": {},
   "outputs": [
    {
     "data": {
      "text/html": [
       "<div>\n",
       "<style scoped>\n",
       "    .dataframe tbody tr th:only-of-type {\n",
       "        vertical-align: middle;\n",
       "    }\n",
       "\n",
       "    .dataframe tbody tr th {\n",
       "        vertical-align: top;\n",
       "    }\n",
       "\n",
       "    .dataframe thead th {\n",
       "        text-align: right;\n",
       "    }\n",
       "</style>\n",
       "<table border=\"1\" class=\"dataframe\">\n",
       "  <thead>\n",
       "    <tr style=\"text-align: right;\">\n",
       "      <th></th>\n",
       "      <th>Runs</th>\n",
       "    </tr>\n",
       "    <tr>\n",
       "      <th>Batsman</th>\n",
       "      <th></th>\n",
       "    </tr>\n",
       "  </thead>\n",
       "  <tbody>\n",
       "    <tr>\n",
       "      <th>1</th>\n",
       "      <td>3470</td>\n",
       "    </tr>\n",
       "    <tr>\n",
       "      <th>2</th>\n",
       "      <td>2993</td>\n",
       "    </tr>\n",
       "    <tr>\n",
       "      <th>3</th>\n",
       "      <td>3141</td>\n",
       "    </tr>\n",
       "    <tr>\n",
       "      <th>4</th>\n",
       "      <td>2915</td>\n",
       "    </tr>\n",
       "    <tr>\n",
       "      <th>5</th>\n",
       "      <td>2015</td>\n",
       "    </tr>\n",
       "    <tr>\n",
       "      <th>6</th>\n",
       "      <td>930</td>\n",
       "    </tr>\n",
       "  </tbody>\n",
       "</table>\n",
       "</div>"
      ],
      "text/plain": [
       "         Runs\n",
       "Batsman      \n",
       "1        3470\n",
       "2        2993\n",
       "3        3141\n",
       "4        2915\n",
       "5        2015\n",
       "6         930"
      ]
     },
     "execution_count": 227,
     "metadata": {},
     "output_type": "execute_result"
    }
   ],
   "source": [
    "Total_runs_each_batsman"
   ]
  },
  {
   "cell_type": "code",
   "execution_count": 228,
   "id": "9eda78fa",
   "metadata": {},
   "outputs": [
    {
     "data": {
      "text/plain": [
       "Text(0, 0.5, 'Total Runs of each Batsman')"
      ]
     },
     "execution_count": 228,
     "metadata": {},
     "output_type": "execute_result"
    },
    {
     "data": {
      "image/png": "[encoded data removed]",
      "text/plain": [
       "<Figure size 720x504 with 1 Axes>"
      ]
     },
     "metadata": {
      "needs_background": "light"
     },
     "output_type": "display_data"
    }
   ],
   "source": [
    "Total_runs_each_batsman.plot(kind='bar',color='orange',title='Total_runs_each_batsman')\n",
    "plt.ylabel('Total Runs of each Batsman')"
   ]
  },
  {
   "cell_type": "markdown",
   "id": "89e06c36",
   "metadata": {},
   "source": [
    "# Average Runs of Each Batsman"
   ]
  },
  {
   "cell_type": "code",
   "execution_count": 262,
   "id": "f8bb228f",
   "metadata": {},
   "outputs": [],
   "source": [
    "average_runs_each_batsman = cd[['Batsman','Runs']].groupby('Batsman').mean()"
   ]
  },
  {
   "cell_type": "code",
   "execution_count": 263,
   "id": "97324803",
   "metadata": {
    "scrolled": true
   },
   "outputs": [
    {
     "data": {
      "text/html": [
       "<div>\n",
       "<style scoped>\n",
       "    .dataframe tbody tr th:only-of-type {\n",
       "        vertical-align: middle;\n",
       "    }\n",
       "\n",
       "    .dataframe tbody tr th {\n",
       "        vertical-align: top;\n",
       "    }\n",
       "\n",
       "    .dataframe thead th {\n",
       "        text-align: right;\n",
       "    }\n",
       "</style>\n",
       "<table border=\"1\" class=\"dataframe\">\n",
       "  <thead>\n",
       "    <tr style=\"text-align: right;\">\n",
       "      <th></th>\n",
       "      <th>Runs</th>\n",
       "    </tr>\n",
       "    <tr>\n",
       "      <th>Batsman</th>\n",
       "      <th></th>\n",
       "    </tr>\n",
       "  </thead>\n",
       "  <tbody>\n",
       "    <tr>\n",
       "      <th>1</th>\n",
       "      <td>60.877193</td>\n",
       "    </tr>\n",
       "    <tr>\n",
       "      <th>2</th>\n",
       "      <td>57.557692</td>\n",
       "    </tr>\n",
       "    <tr>\n",
       "      <th>3</th>\n",
       "      <td>49.078125</td>\n",
       "    </tr>\n",
       "    <tr>\n",
       "      <th>4</th>\n",
       "      <td>49.406780</td>\n",
       "    </tr>\n",
       "    <tr>\n",
       "      <th>5</th>\n",
       "      <td>53.026316</td>\n",
       "    </tr>\n",
       "    <tr>\n",
       "      <th>6</th>\n",
       "      <td>35.769231</td>\n",
       "    </tr>\n",
       "  </tbody>\n",
       "</table>\n",
       "</div>"
      ],
      "text/plain": [
       "              Runs\n",
       "Batsman           \n",
       "1        60.877193\n",
       "2        57.557692\n",
       "3        49.078125\n",
       "4        49.406780\n",
       "5        53.026316\n",
       "6        35.769231"
      ]
     },
     "execution_count": 263,
     "metadata": {},
     "output_type": "execute_result"
    }
   ],
   "source": [
    "average_runs_each_batsman "
   ]
  },
  {
   "cell_type": "code",
   "execution_count": 264,
   "id": "423afcc1",
   "metadata": {},
   "outputs": [
    {
     "data": {
      "text/plain": [
       "Text(0, 0.5, 'Total Runs of each Batsman')"
      ]
     },
     "execution_count": 264,
     "metadata": {},
     "output_type": "execute_result"
    },
    {
     "data": {
      "image/png": "[encoded data removed]",
      "text/plain": [
       "<Figure size 720x504 with 1 Axes>"
      ]
     },
     "metadata": {
      "needs_background": "light"
     },
     "output_type": "display_data"
    }
   ],
   "source": [
    "average_runs_each_batsman.plot(kind='bar',color='orange',title='Average_runs_each_batsman')\n",
    "plt.ylabel('Total Runs of each Batsman')"
   ]
  },
  {
   "cell_type": "markdown",
   "id": "1051c73f",
   "metadata": {},
   "source": [
    "# Total Runs by boundaries by each Batsman"
   ]
  },
  {
   "cell_type": "code",
   "execution_count": 232,
   "id": "7d11cac6",
   "metadata": {},
   "outputs": [
    {
     "data": {
      "text/plain": [
       "Batsman\n",
       "1    1588\n",
       "2    1314\n",
       "3    1594\n",
       "4    1518\n",
       "5     984\n",
       "6     444\n",
       "Name: totalRunByBoundaries, dtype: int64"
      ]
     },
     "execution_count": 232,
     "metadata": {},
     "output_type": "execute_result"
    }
   ],
   "source": [
    "RunByBoundaries= cd[['Batsman','4s','6s']].groupby('Batsman').sum() \n",
    "RunByBoundaries['totalRunByBoundaries']=runBysixFour['4s']*4+runBysixFour['6s']*6\n",
    "RunByBoundaries['runByFour']=runBysixFour['4s']*4\n",
    "RunByBoundaries['runBysix']=runBysixFour['6s']*6\n",
    "RunByBoundaries['totalRunByBoundaries']"
   ]
  },
  {
   "cell_type": "code",
   "execution_count": 233,
   "id": "d5b0499c",
   "metadata": {},
   "outputs": [
    {
     "data": {
      "text/plain": [
       "Text(0, 0.5, 'Runs')"
      ]
     },
     "execution_count": 233,
     "metadata": {},
     "output_type": "execute_result"
    },
    {
     "data": {
      "image/png": "[encoded data removed]",
      "text/plain": [
       "<Figure size 720x504 with 1 Axes>"
      ]
     },
     "metadata": {
      "needs_background": "light"
     },
     "output_type": "display_data"
    }
   ],
   "source": [
    "RunByBoundaries.plot(kind='bar',title='TotalRunByBoundaries')\n",
    "plt.figure.figsize = (15,15)\n",
    "plt.ylabel('Runs')"
   ]
  },
  {
   "cell_type": "markdown",
   "id": "688ff1fb",
   "metadata": {},
   "source": [
    "# Single_Doubles_Triples, 4s and 6s by each Batsman"
   ]
  },
  {
   "cell_type": "code",
   "execution_count": 254,
   "id": "580e1367",
   "metadata": {},
   "outputs": [
    {
     "data": {
      "image/png": "[encoded data removed]",
      "text/plain": [
       "<Figure size 720x504 with 1 Axes>"
      ]
     },
     "metadata": {},
     "output_type": "display_data"
    }
   ],
   "source": [
    "labels = '4S', '6S', 'Singles_Doubles_Triples'\n",
    "scores = [batsman1['4s'].sum()*4,batsman1['6s'].sum()*6,batsman1['Runs'].sum()-(batsman1['4s'].sum()*4+batsman1['6s'].sum()*6)]\n",
    "plt.pie(scores,autopct='%1.2f%%',explode=(0.05,0.05,0.0),labels=labels)\n",
    "plt.show()"
   ]
  },
  {
   "cell_type": "code",
   "execution_count": 253,
   "id": "278385bf",
   "metadata": {},
   "outputs": [
    {
     "data": {
      "image/png": "[encoded data removed]",
      "text/plain": [
       "<Figure size 720x504 with 1 Axes>"
      ]
     },
     "metadata": {},
     "output_type": "display_data"
    }
   ],
   "source": [
    "labels = '4S', '6S', 'Singles_Doubles_Triples'\n",
    "scores = [batsman2['4s'].sum()*4,batsman2['6s'].sum()*6,batsman2['Runs'].sum()-(batsman2['4s'].sum()*4+batsman2['6s'].sum()*6)]\n",
    "plt.pie(scores,autopct='%1.2f%%',explode=(0.05,0.05,0.0),labels=labels)\n",
    "plt.show()"
   ]
  },
  {
   "cell_type": "code",
   "execution_count": 252,
   "id": "e1a6dc88",
   "metadata": {},
   "outputs": [
    {
     "data": {
      "image/png": "[encoded data removed]",
      "text/plain": [
       "<Figure size 720x504 with 1 Axes>"
      ]
     },
     "metadata": {},
     "output_type": "display_data"
    }
   ],
   "source": [
    "labels = '4S', '6S', 'Singles_Doubles_Triples'\n",
    "scores = [batsman3['4s'].sum()*4,batsman3['6s'].sum()*6,batsman3['Runs'].sum()-(batsman3['4s'].sum()*4+batsman3['6s'].sum()*6)]\n",
    "plt.pie(scores,autopct='%1.2f%%',explode=(0.05,0.05,0.0),labels=labels)\n",
    "plt.show()"
   ]
  },
  {
   "cell_type": "code",
   "execution_count": 251,
   "id": "e037c575",
   "metadata": {},
   "outputs": [
    {
     "data": {
      "image/png": "[encoded data removed]",
      "text/plain": [
       "<Figure size 720x504 with 1 Axes>"
      ]
     },
     "metadata": {},
     "output_type": "display_data"
    }
   ],
   "source": [
    "labels = '4S', '6S', 'Singles_Doubles_Triples'\n",
    "scores = [batsman4['4s'].sum()*4,batsman4['6s'].sum()*6,batsman4['Runs'].sum()-(batsman4['4s'].sum()*4+batsman4['6s'].sum()*6)]\n",
    "plt.pie(scores,autopct='%1.2f%%',explode=(0.05,0.05,0.0),labels=labels)\n",
    "plt.show()"
   ]
  },
  {
   "cell_type": "code",
   "execution_count": 250,
   "id": "570ba4f4",
   "metadata": {},
   "outputs": [
    {
     "data": {
      "image/png": "[encoded data removed]",
      "text/plain": [
       "<Figure size 720x504 with 1 Axes>"
      ]
     },
     "metadata": {},
     "output_type": "display_data"
    }
   ],
   "source": [
    "labels = '4S', '6S', 'Singles_Doubles_Triples'\n",
    "scores = [batsman5['4s'].sum()*4,batsman5['6s'].sum()*6,batsman5['Runs'].sum()-(batsman5['4s'].sum()*4+batsman5['6s'].sum()*6)]\n",
    "plt.pie(scores,autopct='%1.2f%%',explode=(0.05,0.05,0.0),labels=labels)\n",
    "plt.show()"
   ]
  },
  {
   "cell_type": "code",
   "execution_count": 249,
   "id": "942235ec",
   "metadata": {},
   "outputs": [
    {
     "data": {
      "image/png": "[encoded data removed]",
      "text/plain": [
       "<Figure size 720x504 with 1 Axes>"
      ]
     },
     "metadata": {},
     "output_type": "display_data"
    }
   ],
   "source": [
    "labels = '4S', '6S', 'Singles_Doubles_Triples'\n",
    "scores = [batsman6['4s'].sum()*4,batsman6['6s'].sum()*6,batsman6['Runs'].sum()-(batsman6['4s'].sum()*4+batsman6['6s'].sum()*6)]\n",
    "plt.pie(scores,autopct='%1.2f%%',explode=(0.05,0.05,0.0),labels=labels)\n",
    "plt.show()"
   ]
  },
  {
   "cell_type": "markdown",
   "id": "260e1777",
   "metadata": {},
   "source": [
    "# Visualising Correlation between attributes"
   ]
  },
  {
   "cell_type": "code",
   "execution_count": 240,
   "id": "0d714554",
   "metadata": {},
   "outputs": [],
   "source": [
    "correlation=df.corr()"
   ]
  },
  {
   "cell_type": "code",
   "execution_count": 241,
   "id": "fb95de02",
   "metadata": {},
   "outputs": [
    {
     "data": {
      "text/plain": [
       "<AxesSubplot:>"
      ]
     },
     "execution_count": 241,
     "metadata": {},
     "output_type": "execute_result"
    },
    {
     "data": {
      "image/png": "[encoded data removed]",
      "text/plain": [
       "<Figure size 720x504 with 2 Axes>"
      ]
     },
     "metadata": {
      "needs_background": "light"
     },
     "output_type": "display_data"
    }
   ],
   "source": [
    "sns.heatmap(correlation)"
   ]
  },
  {
   "cell_type": "markdown",
   "id": "e7c7b3a4",
   "metadata": {},
   "source": [
    "# From correlation heatmap, it can be understand that runs score by batsman  having positive correlation with minutes and balls faced by the batsman"
   ]
  },
  {
   "cell_type": "markdown",
   "id": "b56ccbfd",
   "metadata": {},
   "source": [
    "# Batsman dismassals Percentage in each type of Dismissal"
   ]
  },
  {
   "cell_type": "code",
   "execution_count": 248,
   "id": "68ff8667",
   "metadata": {},
   "outputs": [
    {
     "data": {
      "text/plain": [
       "([<matplotlib.patches.Wedge at 0x2af891dbeb0>,\n",
       "  <matplotlib.patches.Wedge at 0x2af8a501610>,\n",
       "  <matplotlib.patches.Wedge at 0x2af8a501d30>,\n",
       "  <matplotlib.patches.Wedge at 0x2af8a4fd490>,\n",
       "  <matplotlib.patches.Wedge at 0x2af8a4fdbb0>,\n",
       "  <matplotlib.patches.Wedge at 0x2af8a515310>],\n",
       " [Text(0.9947928752251085, 0.46945408231408725, 'lbw'),\n",
       "  Text(0.09083729352452254, 1.0962429411882841, 'bowled'),\n",
       "  Text(-0.6016429455730573, 0.920883144618347, 'run out'),\n",
       "  Text(-0.9371113473566874, -0.5760402092348539, 'caught'),\n",
       "  Text(0.6016430102375327, -0.9208831023709363, 'stumped'),\n",
       "  Text(0.9947928972018389, -0.4694540357444717, 'not out')],\n",
       " [Text(0.5426142955773319, 0.2560658630804112, '14.04%'),\n",
       "  Text(0.04954761464973956, 0.5979506951936094, '19.30%'),\n",
       "  Text(-0.32816887940348577, 0.5022998970645528, '1.75%'),\n",
       "  Text(-0.5111516440127385, -0.3142037504917385, '47.37%'),\n",
       "  Text(0.3281689146750178, -0.5022998740205107, '3.51%'),\n",
       "  Text(0.5426143075646394, -0.2560658376788027, '14.04%')])"
      ]
     },
     "execution_count": 248,
     "metadata": {},
     "output_type": "execute_result"
    },
    {
     "data": {
      "image/png": "[encoded data removed]",
      "text/plain": [
       "<Figure size 720x504 with 1 Axes>"
      ]
     },
     "metadata": {},
     "output_type": "display_data"
    }
   ],
   "source": [
    "batsman1_Dismissal_lbw =len( batsman1[(batsman1.Dismissal=='lbw')])\n",
    "batsman1_Dismissal_bowled =len( batsman1[(batsman1.Dismissal=='bowled')])\n",
    "batsman1_Dismissal_runout =len( batsman1[(batsman1.Dismissal=='run out')])\n",
    "batsman1_Dismissal_caught =len( batsman1[(batsman1.Dismissal=='caught')])\n",
    "batsman1_Dismissal_notout=len( batsman1[(batsman1.Dismissal=='not out')])\n",
    "batsman1_Dismissal_stumped =len( batsman1[(batsman1.Dismissal=='stumped')])\n",
    "\n",
    "labels = 'lbw', 'bowled', 'run out','caught','stumped','not out'\n",
    "Types_of_Dismissals = [batsman1_Dismissal_lbw,batsman1_Dismissal_bowled,batsman1_Dismissal_runout,\n",
    "          batsman1_Dismissal_caught,batsman1_Dismissal_stumped,batsman1_Dismissal_notout]\n",
    "\n",
    "plt.pie(Types_of_Dismissals, autopct='%1.2f%%', labels=labels)"
   ]
  },
  {
   "cell_type": "code",
   "execution_count": 266,
   "id": "16d01309",
   "metadata": {},
   "outputs": [
    {
     "data": {
      "text/plain": [
       "([<matplotlib.patches.Wedge at 0x2af8a1f99d0>,\n",
       "  <matplotlib.patches.Wedge at 0x2af8a207100>,\n",
       "  <matplotlib.patches.Wedge at 0x2af8a207820>,\n",
       "  <matplotlib.patches.Wedge at 0x2af8a207eb0>,\n",
       "  <matplotlib.patches.Wedge at 0x2af8a213610>,\n",
       "  <matplotlib.patches.Wedge at 0x2af8a213d30>],\n",
       " [Text(0.7156800949531819, 0.8353454385389345, 'lbw'),\n",
       "  Text(-0.3655903677537586, 1.0374698467934726, 'bowled'),\n",
       "  Text(-0.5500000817588411, 0.9526278969593891, 'run out'),\n",
       "  Text(-0.765747211893737, -0.7897032401332593, 'caught'),\n",
       "  Text(0.9691135386283655, -0.5204026799001017, 'stumped'),\n",
       "  Text(1.0667766963802927, -0.2683048267548478, 'not out')],\n",
       " [Text(0.39037096088355366, 0.4556429664757824, '27.45%'),\n",
       "  Text(-0.19941292786568648, 0.5658926437055305, '5.88%'),\n",
       "  Text(-0.30000004459573143, 0.5196152165233031, '0.00%'),\n",
       "  Text(-0.4176802973965838, -0.4307472218908687, '58.82%'),\n",
       "  Text(0.5286073847063811, -0.2838560072182373, '0.00%'),\n",
       "  Text(0.5818781980256141, -0.14634808732082605, '7.84%')])"
      ]
     },
     "execution_count": 266,
     "metadata": {},
     "output_type": "execute_result"
    },
    {
     "data": {
      "image/png": "[encoded data removed]",
      "text/plain": [
       "<Figure size 720x504 with 1 Axes>"
      ]
     },
     "metadata": {},
     "output_type": "display_data"
    }
   ],
   "source": [
    "batsman2_Dismissal_lbw =len( batsman2[(batsman2.Dismissal=='lbw')])\n",
    "batsman2_Dismissal_bowled =len( batsman2[(batsman2.Dismissal=='bowled')])\n",
    "batsman2_Dismissal_runout =len( batsman2[(batsman2.Dismissal=='run out')])\n",
    "batsman2_Dismissal_caught =len( batsman2[(batsman2.Dismissal=='caught')])\n",
    "batsman2_Dismissal_notout=len( batsman2[(batsman2.Dismissal=='not out')])\n",
    "batsman2_Dismissal_stumped =len( batsman2[(batsman2.Dismissal=='stumped')])\n",
    "\n",
    "labels = 'lbw', 'bowled', 'run out','caught','stumped','not out'\n",
    "Types_of_Dismissals = [batsman2_Dismissal_lbw,batsman2_Dismissal_bowled,batsman2_Dismissal_runout,\n",
    "          batsman2_Dismissal_caught,batsman2_Dismissal_stumped,batsman2_Dismissal_notout]\n",
    "\n",
    "plt.pie(Types_of_Dismissals, autopct='%1.2f%%', labels=labels)"
   ]
  },
  {
   "cell_type": "code",
   "execution_count": 267,
   "id": "9e1e5a89",
   "metadata": {},
   "outputs": [
    {
     "data": {
      "text/plain": [
       "([<matplotlib.patches.Wedge at 0x2af8a25e910>,\n",
       "  <matplotlib.patches.Wedge at 0x2af8a26c070>,\n",
       "  <matplotlib.patches.Wedge at 0x2af8a26c790>,\n",
       "  <matplotlib.patches.Wedge at 0x2af8a26ceb0>,\n",
       "  <matplotlib.patches.Wedge at 0x2af8a278610>,\n",
       "  <matplotlib.patches.Wedge at 0x2af8a278d30>],\n",
       " [Text(0.8835282846287095, 0.6552692349416768, 'lbw'),\n",
       "  Text(-0.10781885436251672, 1.0947031993394167, 'bowled'),\n",
       "  Text(-0.5185364105085976, 0.9701133907831906, 'run out'),\n",
       "  Text(-0.7387148503317206, -0.8150462378904548, 'caught'),\n",
       "  Text(1.0162674857624152, -0.42095177560159946, 'stumped'),\n",
       "  Text(1.0788638084435533, -0.21459935421774162, 'not out')],\n",
       " [Text(0.48192451888838694, 0.35741958269546, '20.31%'),\n",
       "  Text(-0.05881028419773639, 0.5971108360033182, '12.50%'),\n",
       "  Text(-0.2828380420955986, 0.529152758609013, '0.00%'),\n",
       "  Text(-0.4029353729082112, -0.44457067521297533, '60.94%'),\n",
       "  Text(0.5543277195067718, -0.2296100594190542, '0.00%'),\n",
       "  Text(0.5884711682419381, -0.11705419320967722, '6.25%')])"
      ]
     },
     "execution_count": 267,
     "metadata": {},
     "output_type": "execute_result"
    },
    {
     "data": {
      "image/png": "[encoded data removed]",
      "text/plain": [
       "<Figure size 720x504 with 1 Axes>"
      ]
     },
     "metadata": {},
     "output_type": "display_data"
    }
   ],
   "source": [
    "batsman3_Dismissal_lbw =len( batsman3[(batsman3.Dismissal=='lbw')])\n",
    "batsman3_Dismissal_bowled =len( batsman3[(batsman3.Dismissal=='bowled')])\n",
    "batsman3_Dismissal_runout =len( batsman3[(batsman3.Dismissal=='run out')])\n",
    "batsman3_Dismissal_caught =len( batsman3[(batsman3.Dismissal=='caught')])\n",
    "batsman3_Dismissal_notout=len( batsman3[(batsman3.Dismissal=='not out')])\n",
    "batsman3_Dismissal_stumped =len( batsman3[(batsman3.Dismissal=='stumped')])\n",
    "\n",
    "labels = 'lbw', 'bowled', 'run out','caught','stumped','not out'\n",
    "Types_of_Dismissals = [batsman3_Dismissal_lbw,batsman3_Dismissal_bowled,batsman3_Dismissal_runout,\n",
    "          batsman3_Dismissal_caught,batsman3_Dismissal_stumped,batsman3_Dismissal_notout]\n",
    "\n",
    "plt.pie(Types_of_Dismissals, autopct='%1.2f%%', labels=labels)"
   ]
  },
  {
   "cell_type": "code",
   "execution_count": 268,
   "id": "d0d34391",
   "metadata": {},
   "outputs": [
    {
     "data": {
      "text/plain": [
       "([<matplotlib.patches.Wedge at 0x2af8a2bea60>,\n",
       "  <matplotlib.patches.Wedge at 0x2af8a2ce1c0>,\n",
       "  <matplotlib.patches.Wedge at 0x2af8a2ce8e0>,\n",
       "  <matplotlib.patches.Wedge at 0x2af8a2dc040>,\n",
       "  <matplotlib.patches.Wedge at 0x2af8a2dc760>,\n",
       "  <matplotlib.patches.Wedge at 0x2af8a2dce80>],\n",
       " [Text(1.0016982497797564, 0.45453340514001056, 'lbw'),\n",
       "  Text(0.3175611395666928, 1.0531642429541102, 'bowled'),\n",
       "  Text(-0.2610593734616145, 1.0685728817108497, 'run out'),\n",
       "  Text(-0.7243625350345766, -0.8278278310363104, 'caught'),\n",
       "  Text(1.0751437178223173, -0.2325209367502323, 'stumped'),\n",
       "  Text(1.0937682747344037, -0.11692288563205236, 'not out')],\n",
       " [Text(0.5463808635162307, 0.2479273118945512, '13.56%'),\n",
       "  Text(0.17321516703637788, 0.5744532234295145, '13.56%'),\n",
       "  Text(-0.14239602188815337, 0.5828579354786452, '3.39%'),\n",
       "  Text(-0.3951068372915872, -0.45154245329253284, '66.10%'),\n",
       "  Text(0.5864420279030821, -0.12682960186376305, '0.00%'),\n",
       "  Text(0.5966008771278566, -0.06377611943566491, '3.39%')])"
      ]
     },
     "execution_count": 268,
     "metadata": {},
     "output_type": "execute_result"
    },
    {
     "data": {
      "image/png": "[encoded data removed]",
      "text/plain": [
       "<Figure size 720x504 with 1 Axes>"
      ]
     },
     "metadata": {},
     "output_type": "display_data"
    }
   ],
   "source": [
    "batsman4_Dismissal_lbw =len( batsman4[(batsman4.Dismissal=='lbw')])\n",
    "batsman4_Dismissal_bowled =len( batsman4[(batsman4.Dismissal=='bowled')])\n",
    "batsman4_Dismissal_runout =len( batsman4[(batsman4.Dismissal=='run out')])\n",
    "batsman4_Dismissal_caught =len( batsman4[(batsman4.Dismissal=='caught')])\n",
    "batsman4_Dismissal_notout=len( batsman4[(batsman4.Dismissal=='not out')])\n",
    "batsman4_Dismissal_stumped =len( batsman4[(batsman4.Dismissal=='stumped')])\n",
    "\n",
    "labels = 'lbw', 'bowled', 'run out','caught','stumped','not out'\n",
    "Types_of_Dismissals = [batsman4_Dismissal_lbw,batsman4_Dismissal_bowled,batsman4_Dismissal_runout,\n",
    "          batsman4_Dismissal_caught,batsman4_Dismissal_stumped,batsman4_Dismissal_notout]\n",
    "\n",
    "plt.pie(Types_of_Dismissals, autopct='%1.2f%%', labels=labels)"
   ]
  },
  {
   "cell_type": "code",
   "execution_count": 269,
   "id": "305b3bcf",
   "metadata": {},
   "outputs": [
    {
     "data": {
      "text/plain": [
       "([<matplotlib.patches.Wedge at 0x2af8a324a90>,\n",
       "  <matplotlib.patches.Wedge at 0x2af8a3331f0>,\n",
       "  <matplotlib.patches.Wedge at 0x2af8a333910>,\n",
       "  <matplotlib.patches.Wedge at 0x2af8a33f070>,\n",
       "  <matplotlib.patches.Wedge at 0x2af8a33f790>,\n",
       "  <matplotlib.patches.Wedge at 0x2af8a33feb0>],\n",
       " [Text(1.0073506527883973, 0.4418649820101046, 'lbw'),\n",
       "  Text(0.3571693699839605, 1.040398981710988, 'bowled'),\n",
       "  Text(-0.09083734484335805, 1.0962429369358824, 'run out'),\n",
       "  Text(-1.0073506114180075, -0.44186507632507743, 'caught'),\n",
       "  Text(0.7450098564039489, -0.8092961842619597, 'stumped'),\n",
       "  Text(1.00735073552915, -0.44186479338014767, 'not out')],\n",
       " [Text(0.5494639924300347, 0.2410172629146025, '13.16%'),\n",
       "  Text(0.19481965635488752, 0.5674903536605389, '13.16%'),\n",
       "  Text(-0.04954764264183166, 0.5979506928741176, '0.00%'),\n",
       "  Text(-0.5494639698643677, -0.24101731435913312, '60.53%'),\n",
       "  Text(0.40636901258397207, -0.4414342823247052, '0.00%'),\n",
       "  Text(0.5494640375613545, -0.24101716002553505, '13.16%')])"
      ]
     },
     "execution_count": 269,
     "metadata": {},
     "output_type": "execute_result"
    },
    {
     "data": {
      "image/png": "[encoded data removed]",
      "text/plain": [
       "<Figure size 720x504 with 1 Axes>"
      ]
     },
     "metadata": {},
     "output_type": "display_data"
    }
   ],
   "source": [
    "batsman5_Dismissal_lbw =len( batsman5[(batsman5.Dismissal=='lbw')])\n",
    "batsman5_Dismissal_bowled =len( batsman5[(batsman5.Dismissal=='bowled')])\n",
    "batsman5_Dismissal_runout =len( batsman5[(batsman5.Dismissal=='run out')])\n",
    "batsman5_Dismissal_caught =len( batsman5[(batsman5.Dismissal=='caught')])\n",
    "batsman5_Dismissal_notout=len( batsman5[(batsman5.Dismissal=='not out')])\n",
    "batsman5_Dismissal_stumped =len( batsman5[(batsman5.Dismissal=='stumped')])\n",
    "\n",
    "labels = 'lbw', 'bowled', 'run out','caught','stumped','not out'\n",
    "Types_of_Dismissals = [batsman5_Dismissal_lbw,batsman5_Dismissal_bowled,batsman5_Dismissal_runout,\n",
    "          batsman5_Dismissal_caught,batsman5_Dismissal_stumped,batsman5_Dismissal_notout]\n",
    "\n",
    "plt.pie(Types_of_Dismissals, autopct='%1.2f%%', labels=labels)"
   ]
  },
  {
   "cell_type": "code",
   "execution_count": 270,
   "id": "4f181fe1",
   "metadata": {},
   "outputs": [
    {
     "data": {
      "text/plain": [
       "([<matplotlib.patches.Wedge at 0x2af8a388b50>,\n",
       "  <matplotlib.patches.Wedge at 0x2af8a3962b0>,\n",
       "  <matplotlib.patches.Wedge at 0x2af8a3969d0>,\n",
       "  <matplotlib.patches.Wedge at 0x2af8a3a2130>,\n",
       "  <matplotlib.patches.Wedge at 0x2af8a3a2850>,\n",
       "  <matplotlib.patches.Wedge at 0x2af8a3a2f70>],\n",
       " [Text(0.9052822457324836, 0.6248712311841147, 'lbw'),\n",
       "  Text(-0.13259039153561533, 1.0919797562557798, 'bowled'),\n",
       "  Text(-0.8233618715824629, 0.7294348692132999, 'run out'),\n",
       "  Text(-0.3900652090792587, -1.0285179301625977, 'caught'),\n",
       "  Text(1.0919797950495094, -0.1325900720402248, 'stumped'),\n",
       "  Text(1.0999999999999637, 2.832209399420673e-07, 'not out')],\n",
       " [Text(0.4937903158540819, 0.3408388533731534, '19.23%'),\n",
       "  Text(-0.07232203174669927, 0.5956253215940617, '15.38%'),\n",
       "  Text(-0.4491064754086161, 0.39787356502543625, '7.69%'),\n",
       "  Text(-0.21276284131595927, -0.5610097800886896, '53.85%'),\n",
       "  Text(0.5956253427542777, -0.07232185747648624, '3.85%'),\n",
       "  Text(0.5999999999999801, 1.5448414905930939e-07, '0.00%')])"
      ]
     },
     "execution_count": 270,
     "metadata": {},
     "output_type": "execute_result"
    },
    {
     "data": {
      "image/png": "[encoded data removed]",
      "text/plain": [
       "<Figure size 720x504 with 1 Axes>"
      ]
     },
     "metadata": {},
     "output_type": "display_data"
    }
   ],
   "source": [
    "batsman6_Dismissal_lbw =len( batsman6[(batsman6.Dismissal=='lbw')])\n",
    "batsman6_Dismissal_bowled =len( batsman6[(batsman6.Dismissal=='bowled')])\n",
    "batsman6_Dismissal_runout =len( batsman6[(batsman6.Dismissal=='run out')])\n",
    "batsman6_Dismissal_caught =len( batsman6[(batsman6.Dismissal=='caught')])\n",
    "batsman6_Dismissal_notout=len( batsman6[(batsman6.Dismissal=='not out')])\n",
    "batsman6_Dismissal_stumped =len( batsman6[(batsman6.Dismissal=='stumped')])\n",
    "\n",
    "labels = 'lbw', 'bowled', 'run out','caught','stumped','not out'\n",
    "Types_of_Dismissals = [batsman6_Dismissal_lbw,batsman6_Dismissal_bowled,batsman6_Dismissal_runout,\n",
    "          batsman6_Dismissal_caught,batsman6_Dismissal_stumped,batsman6_Dismissal_notout]\n",
    "\n",
    "plt.pie(Types_of_Dismissals, autopct='%1.2f%%', labels=labels)"
   ]
  },
  {
   "cell_type": "markdown",
   "id": "edc679eb",
   "metadata": {},
   "source": [
    "# Predict Runs scored by Batsman1"
   ]
  },
  {
   "cell_type": "code",
   "execution_count": 298,
   "id": "9430ce81",
   "metadata": {},
   "outputs": [],
   "source": [
    "B1 =  pd.DataFrame(cd, columns=cd.columns)\n",
    "for i in range(57):\n",
    "    if(cd['Batsman'].loc[i]==1):\n",
    "        B1=B1.append(cd.loc[i])\n",
    "    else:\n",
    "        pass"
   ]
  },
  {
   "cell_type": "code",
   "execution_count": 299,
   "id": "5fd26028",
   "metadata": {},
   "outputs": [
    {
     "data": {
      "text/html": [
       "<div>\n",
       "<style scoped>\n",
       "    .dataframe tbody tr th:only-of-type {\n",
       "        vertical-align: middle;\n",
       "    }\n",
       "\n",
       "    .dataframe tbody tr th {\n",
       "        vertical-align: top;\n",
       "    }\n",
       "\n",
       "    .dataframe thead th {\n",
       "        text-align: right;\n",
       "    }\n",
       "</style>\n",
       "<table border=\"1\" class=\"dataframe\">\n",
       "  <thead>\n",
       "    <tr style=\"text-align: right;\">\n",
       "      <th></th>\n",
       "      <th>Batsman</th>\n",
       "      <th>Runs</th>\n",
       "      <th>Mins</th>\n",
       "      <th>BF</th>\n",
       "      <th>4s</th>\n",
       "      <th>6s</th>\n",
       "      <th>SR</th>\n",
       "      <th>Pos</th>\n",
       "      <th>Dismissal</th>\n",
       "      <th>Inns</th>\n",
       "    </tr>\n",
       "  </thead>\n",
       "  <tbody>\n",
       "    <tr>\n",
       "      <th>0</th>\n",
       "      <td>1</td>\n",
       "      <td>33</td>\n",
       "      <td>78.0</td>\n",
       "      <td>56</td>\n",
       "      <td>5</td>\n",
       "      <td>0</td>\n",
       "      <td>58.92</td>\n",
       "      <td>3</td>\n",
       "      <td>caught</td>\n",
       "      <td>2</td>\n",
       "    </tr>\n",
       "    <tr>\n",
       "      <th>1</th>\n",
       "      <td>1</td>\n",
       "      <td>33</td>\n",
       "      <td>77.0</td>\n",
       "      <td>49</td>\n",
       "      <td>6</td>\n",
       "      <td>0</td>\n",
       "      <td>67.34</td>\n",
       "      <td>3</td>\n",
       "      <td>caught</td>\n",
       "      <td>4</td>\n",
       "    </tr>\n",
       "    <tr>\n",
       "      <th>2</th>\n",
       "      <td>1</td>\n",
       "      <td>215</td>\n",
       "      <td>503.0</td>\n",
       "      <td>346</td>\n",
       "      <td>25</td>\n",
       "      <td>1</td>\n",
       "      <td>62.13</td>\n",
       "      <td>3</td>\n",
       "      <td>lbw</td>\n",
       "      <td>1</td>\n",
       "    </tr>\n",
       "    <tr>\n",
       "      <th>3</th>\n",
       "      <td>1</td>\n",
       "      <td>58</td>\n",
       "      <td>67.0</td>\n",
       "      <td>48</td>\n",
       "      <td>9</td>\n",
       "      <td>0</td>\n",
       "      <td>120.83</td>\n",
       "      <td>3</td>\n",
       "      <td>bowled</td>\n",
       "      <td>3</td>\n",
       "    </tr>\n",
       "    <tr>\n",
       "      <th>4</th>\n",
       "      <td>1</td>\n",
       "      <td>7</td>\n",
       "      <td>26.0</td>\n",
       "      <td>18</td>\n",
       "      <td>1</td>\n",
       "      <td>0</td>\n",
       "      <td>38.88</td>\n",
       "      <td>3</td>\n",
       "      <td>caught</td>\n",
       "      <td>1</td>\n",
       "    </tr>\n",
       "    <tr>\n",
       "      <th>...</th>\n",
       "      <td>...</td>\n",
       "      <td>...</td>\n",
       "      <td>...</td>\n",
       "      <td>...</td>\n",
       "      <td>...</td>\n",
       "      <td>...</td>\n",
       "      <td>...</td>\n",
       "      <td>...</td>\n",
       "      <td>...</td>\n",
       "      <td>...</td>\n",
       "    </tr>\n",
       "    <tr>\n",
       "      <th>52</th>\n",
       "      <td>1</td>\n",
       "      <td>6</td>\n",
       "      <td>25.0</td>\n",
       "      <td>12</td>\n",
       "      <td>1</td>\n",
       "      <td>0</td>\n",
       "      <td>50.00</td>\n",
       "      <td>4</td>\n",
       "      <td>lbw</td>\n",
       "      <td>3</td>\n",
       "    </tr>\n",
       "    <tr>\n",
       "      <th>53</th>\n",
       "      <td>1</td>\n",
       "      <td>239</td>\n",
       "      <td>578.0</td>\n",
       "      <td>399</td>\n",
       "      <td>30</td>\n",
       "      <td>1</td>\n",
       "      <td>59.89</td>\n",
       "      <td>4</td>\n",
       "      <td>lbw</td>\n",
       "      <td>2</td>\n",
       "    </tr>\n",
       "    <tr>\n",
       "      <th>54</th>\n",
       "      <td>1</td>\n",
       "      <td>76</td>\n",
       "      <td>211.0</td>\n",
       "      <td>156</td>\n",
       "      <td>8</td>\n",
       "      <td>0</td>\n",
       "      <td>48.71</td>\n",
       "      <td>4</td>\n",
       "      <td>bowled</td>\n",
       "      <td>1</td>\n",
       "    </tr>\n",
       "    <tr>\n",
       "      <th>55</th>\n",
       "      <td>1</td>\n",
       "      <td>102</td>\n",
       "      <td>438.0</td>\n",
       "      <td>275</td>\n",
       "      <td>6</td>\n",
       "      <td>0</td>\n",
       "      <td>37.09</td>\n",
       "      <td>4</td>\n",
       "      <td>not out</td>\n",
       "      <td>3</td>\n",
       "    </tr>\n",
       "    <tr>\n",
       "      <th>56</th>\n",
       "      <td>1</td>\n",
       "      <td>83</td>\n",
       "      <td>254.0</td>\n",
       "      <td>158</td>\n",
       "      <td>5</td>\n",
       "      <td>0</td>\n",
       "      <td>52.53</td>\n",
       "      <td>4</td>\n",
       "      <td>caught</td>\n",
       "      <td>2</td>\n",
       "    </tr>\n",
       "  </tbody>\n",
       "</table>\n",
       "<p>353 rows × 10 columns</p>\n",
       "</div>"
      ],
      "text/plain": [
       "    Batsman  Runs   Mins   BF  4s  6s      SR  Pos Dismissal  Inns\n",
       "0         1    33   78.0   56   5   0   58.92    3    caught     2\n",
       "1         1    33   77.0   49   6   0   67.34    3    caught     4\n",
       "2         1   215  503.0  346  25   1   62.13    3       lbw     1\n",
       "3         1    58   67.0   48   9   0  120.83    3    bowled     3\n",
       "4         1     7   26.0   18   1   0   38.88    3    caught     1\n",
       "..      ...   ...    ...  ...  ..  ..     ...  ...       ...   ...\n",
       "52        1     6   25.0   12   1   0   50.00    4       lbw     3\n",
       "53        1   239  578.0  399  30   1   59.89    4       lbw     2\n",
       "54        1    76  211.0  156   8   0   48.71    4    bowled     1\n",
       "55        1   102  438.0  275   6   0   37.09    4   not out     3\n",
       "56        1    83  254.0  158   5   0   52.53    4    caught     2\n",
       "\n",
       "[353 rows x 10 columns]"
      ]
     },
     "execution_count": 299,
     "metadata": {},
     "output_type": "execute_result"
    }
   ],
   "source": [
    "B1"
   ]
  },
  {
   "cell_type": "code",
   "execution_count": 317,
   "id": "dded590c",
   "metadata": {},
   "outputs": [],
   "source": [
    "Y=B1[['Runs']]"
   ]
  },
  {
   "cell_type": "code",
   "execution_count": 318,
   "id": "6dcb6668",
   "metadata": {},
   "outputs": [
    {
     "data": {
      "text/html": [
       "<div>\n",
       "<style scoped>\n",
       "    .dataframe tbody tr th:only-of-type {\n",
       "        vertical-align: middle;\n",
       "    }\n",
       "\n",
       "    .dataframe tbody tr th {\n",
       "        vertical-align: top;\n",
       "    }\n",
       "\n",
       "    .dataframe thead th {\n",
       "        text-align: right;\n",
       "    }\n",
       "</style>\n",
       "<table border=\"1\" class=\"dataframe\">\n",
       "  <thead>\n",
       "    <tr style=\"text-align: right;\">\n",
       "      <th></th>\n",
       "      <th>Runs</th>\n",
       "    </tr>\n",
       "  </thead>\n",
       "  <tbody>\n",
       "    <tr>\n",
       "      <th>0</th>\n",
       "      <td>33</td>\n",
       "    </tr>\n",
       "    <tr>\n",
       "      <th>1</th>\n",
       "      <td>33</td>\n",
       "    </tr>\n",
       "    <tr>\n",
       "      <th>2</th>\n",
       "      <td>215</td>\n",
       "    </tr>\n",
       "    <tr>\n",
       "      <th>3</th>\n",
       "      <td>58</td>\n",
       "    </tr>\n",
       "    <tr>\n",
       "      <th>4</th>\n",
       "      <td>7</td>\n",
       "    </tr>\n",
       "    <tr>\n",
       "      <th>...</th>\n",
       "      <td>...</td>\n",
       "    </tr>\n",
       "    <tr>\n",
       "      <th>52</th>\n",
       "      <td>6</td>\n",
       "    </tr>\n",
       "    <tr>\n",
       "      <th>53</th>\n",
       "      <td>239</td>\n",
       "    </tr>\n",
       "    <tr>\n",
       "      <th>54</th>\n",
       "      <td>76</td>\n",
       "    </tr>\n",
       "    <tr>\n",
       "      <th>55</th>\n",
       "      <td>102</td>\n",
       "    </tr>\n",
       "    <tr>\n",
       "      <th>56</th>\n",
       "      <td>83</td>\n",
       "    </tr>\n",
       "  </tbody>\n",
       "</table>\n",
       "<p>353 rows × 1 columns</p>\n",
       "</div>"
      ],
      "text/plain": [
       "    Runs\n",
       "0     33\n",
       "1     33\n",
       "2    215\n",
       "3     58\n",
       "4      7\n",
       "..   ...\n",
       "52     6\n",
       "53   239\n",
       "54    76\n",
       "55   102\n",
       "56    83\n",
       "\n",
       "[353 rows x 1 columns]"
      ]
     },
     "execution_count": 318,
     "metadata": {},
     "output_type": "execute_result"
    }
   ],
   "source": [
    "Y"
   ]
  },
  {
   "cell_type": "code",
   "execution_count": 320,
   "id": "5822c721",
   "metadata": {},
   "outputs": [],
   "source": [
    "X=B1[['BF']]"
   ]
  },
  {
   "cell_type": "code",
   "execution_count": 322,
   "id": "fb260bd6",
   "metadata": {},
   "outputs": [
    {
     "data": {
      "text/html": [
       "<div>\n",
       "<style scoped>\n",
       "    .dataframe tbody tr th:only-of-type {\n",
       "        vertical-align: middle;\n",
       "    }\n",
       "\n",
       "    .dataframe tbody tr th {\n",
       "        vertical-align: top;\n",
       "    }\n",
       "\n",
       "    .dataframe thead th {\n",
       "        text-align: right;\n",
       "    }\n",
       "</style>\n",
       "<table border=\"1\" class=\"dataframe\">\n",
       "  <thead>\n",
       "    <tr style=\"text-align: right;\">\n",
       "      <th></th>\n",
       "      <th>BF</th>\n",
       "    </tr>\n",
       "  </thead>\n",
       "  <tbody>\n",
       "    <tr>\n",
       "      <th>0</th>\n",
       "      <td>56</td>\n",
       "    </tr>\n",
       "    <tr>\n",
       "      <th>1</th>\n",
       "      <td>49</td>\n",
       "    </tr>\n",
       "    <tr>\n",
       "      <th>2</th>\n",
       "      <td>346</td>\n",
       "    </tr>\n",
       "    <tr>\n",
       "      <th>3</th>\n",
       "      <td>48</td>\n",
       "    </tr>\n",
       "    <tr>\n",
       "      <th>4</th>\n",
       "      <td>18</td>\n",
       "    </tr>\n",
       "    <tr>\n",
       "      <th>...</th>\n",
       "      <td>...</td>\n",
       "    </tr>\n",
       "    <tr>\n",
       "      <th>52</th>\n",
       "      <td>12</td>\n",
       "    </tr>\n",
       "    <tr>\n",
       "      <th>53</th>\n",
       "      <td>399</td>\n",
       "    </tr>\n",
       "    <tr>\n",
       "      <th>54</th>\n",
       "      <td>156</td>\n",
       "    </tr>\n",
       "    <tr>\n",
       "      <th>55</th>\n",
       "      <td>275</td>\n",
       "    </tr>\n",
       "    <tr>\n",
       "      <th>56</th>\n",
       "      <td>158</td>\n",
       "    </tr>\n",
       "  </tbody>\n",
       "</table>\n",
       "<p>353 rows × 1 columns</p>\n",
       "</div>"
      ],
      "text/plain": [
       "     BF\n",
       "0    56\n",
       "1    49\n",
       "2   346\n",
       "3    48\n",
       "4    18\n",
       "..  ...\n",
       "52   12\n",
       "53  399\n",
       "54  156\n",
       "55  275\n",
       "56  158\n",
       "\n",
       "[353 rows x 1 columns]"
      ]
     },
     "execution_count": 322,
     "metadata": {},
     "output_type": "execute_result"
    }
   ],
   "source": [
    "X"
   ]
  },
  {
   "cell_type": "markdown",
   "id": "6a13da37",
   "metadata": {},
   "source": [
    "# Employing Regression Models"
   ]
  },
  {
   "cell_type": "code",
   "execution_count": 401,
   "id": "5dedbb10",
   "metadata": {},
   "outputs": [],
   "source": [
    "from sklearn.model_selection import train_test_split\n",
    "X_train,X_test,Y_train,Y_test = train_test_split(X,Y,test_size=0.2 ,random_state = 101)"
   ]
  },
  {
   "cell_type": "code",
   "execution_count": 402,
   "id": "80c8c1ce",
   "metadata": {},
   "outputs": [],
   "source": [
    "from sklearn.linear_model import LinearRegression"
   ]
  },
  {
   "cell_type": "code",
   "execution_count": 403,
   "id": "0e992dcd",
   "metadata": {},
   "outputs": [],
   "source": [
    "lm=LinearRegression()"
   ]
  },
  {
   "cell_type": "code",
   "execution_count": 404,
   "id": "488cc272",
   "metadata": {},
   "outputs": [
    {
     "data": {
      "text/plain": [
       "LinearRegression()"
      ]
     },
     "execution_count": 404,
     "metadata": {},
     "output_type": "execute_result"
    }
   ],
   "source": [
    "lm.fit(X_train,Y_train)"
   ]
  },
  {
   "cell_type": "code",
   "execution_count": 405,
   "id": "c23a4f51",
   "metadata": {},
   "outputs": [],
   "source": [
    "predictions=lm.predict(X_test)"
   ]
  },
  {
   "cell_type": "code",
   "execution_count": 406,
   "id": "5b624ac0",
   "metadata": {},
   "outputs": [
    {
     "data": {
      "text/plain": [
       "array([[  4.05543231],\n",
       "       [111.58705364],\n",
       "       [ 57.22384508],\n",
       "       [ 57.82124298],\n",
       "       [ 91.27552517],\n",
       "       [ 43.48369347],\n",
       "       [ 23.76956289],\n",
       "       [ 57.22384508],\n",
       "       [ 44.67848926],\n",
       "       [  2.26323863],\n",
       "       [  6.4450239 ],\n",
       "       [ 47.66547874],\n",
       "       [ 60.80823246],\n",
       "       [ 64.39261984],\n",
       "       [ 21.37997131],\n",
       "       [  4.65283021],\n",
       "       [ 16.00339024],\n",
       "       [ 37.50971451],\n",
       "       [  5.847626  ],\n",
       "       [  7.63981969],\n",
       "       [ 57.22384508],\n",
       "       [ 35.71752082],\n",
       "       [ 67.97700722],\n",
       "       [ 32.73053134],\n",
       "       [ 63.19782405],\n",
       "       [ 69.17180301],\n",
       "       [ 20.18517551],\n",
       "       [151.6127127 ],\n",
       "       [ 24.96435868],\n",
       "       [ 33.92532713],\n",
       "       [ 20.78257341],\n",
       "       [ 20.78257341],\n",
       "       [ 11.22420707],\n",
       "       [ 67.37960932],\n",
       "       [ 42.88629557],\n",
       "       [ 23.17216499],\n",
       "       [ 41.69149978],\n",
       "       [ 27.35395027],\n",
       "       [ 18.39298182],\n",
       "       [ 48.86027454],\n",
       "       [  4.65283021],\n",
       "       [ 95.45731045],\n",
       "       [ 26.15915448],\n",
       "       [ 11.82160497],\n",
       "       [ 31.53573554],\n",
       "       [145.04133584],\n",
       "       [ 11.22420707],\n",
       "       [134.8855716 ],\n",
       "       [  4.05543231],\n",
       "       [ 15.40599234],\n",
       "       [ 47.06808085],\n",
       "       [100.83389151],\n",
       "       [ 14.80859445],\n",
       "       [ 13.01640076],\n",
       "       [  3.45803442],\n",
       "       [ 55.43165139],\n",
       "       [ 10.02941128],\n",
       "       [111.58705364],\n",
       "       [ 46.47068295],\n",
       "       [ 47.66547874],\n",
       "       [ 82.91195462],\n",
       "       [ 34.52272502],\n",
       "       [106.80787047],\n",
       "       [ 85.30154621],\n",
       "       [ 72.15879249],\n",
       "       [145.04133584],\n",
       "       [ 99.04169782],\n",
       "       [133.69077581],\n",
       "       [ 38.1071124 ],\n",
       "       [ 29.74354185],\n",
       "       [ 68.57440511]])"
      ]
     },
     "execution_count": 406,
     "metadata": {},
     "output_type": "execute_result"
    }
   ],
   "source": [
    "predictions"
   ]
  },
  {
   "cell_type": "code",
   "execution_count": 407,
   "id": "aff82214",
   "metadata": {},
   "outputs": [
    {
     "data": {
      "text/plain": [
       "<matplotlib.collections.PathCollection at 0x2af8ebb9430>"
      ]
     },
     "execution_count": 407,
     "metadata": {},
     "output_type": "execute_result"
    },
    {
     "data": {
      "image/png": "[encoded data removed]",
      "text/plain": [
       "<Figure size 720x504 with 1 Axes>"
      ]
     },
     "metadata": {
      "needs_background": "light"
     },
     "output_type": "display_data"
    }
   ],
   "source": [
    "plt.scatter(Y_test,predictions)"
   ]
  },
  {
   "cell_type": "code",
   "execution_count": 408,
   "id": "8e1ec829",
   "metadata": {},
   "outputs": [],
   "source": [
    "from sklearn import metrics"
   ]
  },
  {
   "cell_type": "code",
   "execution_count": 409,
   "id": "317e597c",
   "metadata": {},
   "outputs": [
    {
     "name": "stdout",
     "output_type": "stream",
     "text": [
      "MAE: 10.730612513060658\n",
      "MSE: 221.1435082539081\n",
      "RMSE: 14.8708946689131\n"
     ]
    }
   ],
   "source": [
    "print('MAE:',metrics.mean_absolute_error(Y_test,predictions))\n",
    "print('MSE:',metrics.mean_squared_error(Y_test,predictions))\n",
    "print('RMSE:',np.sqrt(metrics.mean_squared_error(Y_test,predictions)))"
   ]
  },
  {
   "cell_type": "code",
   "execution_count": 410,
   "id": "456006df",
   "metadata": {},
   "outputs": [],
   "source": [
    "from sklearn.tree import DecisionTreeRegressor \n",
    "dtr = DecisionTreeRegressor() \n",
    "dtr.fit(X_train, Y_train) \n",
    "Y_pred_dtr = dtr.predict(X_test)"
   ]
  },
  {
   "cell_type": "code",
   "execution_count": 411,
   "id": "8a9c0e10",
   "metadata": {},
   "outputs": [
    {
     "name": "stdout",
     "output_type": "stream",
     "text": [
      "MAE: 11.088262910798122\n",
      "MSE: 323.1171205007825\n",
      "RMSE: 17.975458839784384\n"
     ]
    }
   ],
   "source": [
    "print('MAE:',metrics.mean_absolute_error(Y_test,Y_pred_dtr ))\n",
    "print('MSE:',metrics.mean_squared_error(Y_test,Y_pred_dtr ))\n",
    "print('RMSE:',np.sqrt(metrics.mean_squared_error(Y_test,Y_pred_dtr )))"
   ]
  },
  {
   "cell_type": "code",
   "execution_count": 412,
   "id": "a3c3016a",
   "metadata": {},
   "outputs": [],
   "source": [
    "from sklearn.ensemble import RandomForestRegressor"
   ]
  },
  {
   "cell_type": "code",
   "execution_count": 413,
   "id": "7b9a92cf",
   "metadata": {},
   "outputs": [
    {
     "name": "stderr",
     "output_type": "stream",
     "text": [
      "C:\\Users\\admin\\AppData\\Local\\Temp/ipykernel_1996/1219714849.py:2: DataConversionWarning: A column-vector y was passed when a 1d array was expected. Please change the shape of y to (n_samples,), for example using ravel().\n",
      "  rfr.fit(X_train, Y_train)\n"
     ]
    },
    {
     "data": {
      "text/plain": [
       "RandomForestRegressor(n_estimators=500)"
      ]
     },
     "execution_count": 413,
     "metadata": {},
     "output_type": "execute_result"
    }
   ],
   "source": [
    "rfr = RandomForestRegressor(n_estimators=500) \n",
    "rfr.fit(X_train, Y_train)"
   ]
  },
  {
   "cell_type": "code",
   "execution_count": 414,
   "id": "4f117035",
   "metadata": {},
   "outputs": [],
   "source": [
    "Y_pred_rfr = rfr.predict(X_test)"
   ]
  },
  {
   "cell_type": "code",
   "execution_count": 415,
   "id": "fda8b578",
   "metadata": {},
   "outputs": [
    {
     "name": "stdout",
     "output_type": "stream",
     "text": [
      "MAE: 11.088262910798122\n",
      "MSE: 323.1171205007825\n",
      "RMSE: 17.759181151058\n"
     ]
    }
   ],
   "source": [
    "print('MAE:',metrics.mean_absolute_error(Y_test,Y_pred_dtr ))\n",
    "print('MSE:',metrics.mean_squared_error(Y_test,Y_pred_dtr ))\n",
    "print('RMSE:',np.sqrt(metrics.mean_squared_error(Y_test,Y_pred_rfr )))"
   ]
  },
  {
   "cell_type": "code",
   "execution_count": 417,
   "id": "d54b876f",
   "metadata": {},
   "outputs": [],
   "source": [
    "from sklearn.ensemble import GradientBoostingRegressor"
   ]
  },
  {
   "cell_type": "code",
   "execution_count": 420,
   "id": "c0d90de7",
   "metadata": {},
   "outputs": [
    {
     "name": "stderr",
     "output_type": "stream",
     "text": [
      "C:\\Users\\admin\\AppData\\Local\\Programs\\Python\\Python39\\lib\\site-packages\\sklearn\\ensemble\\_gb.py:494: DataConversionWarning: A column-vector y was passed when a 1d array was expected. Please change the shape of y to (n_samples, ), for example using ravel().\n",
      "  y = column_or_1d(y, warn=True)\n"
     ]
    },
    {
     "data": {
      "text/plain": [
       "GradientBoostingRegressor()"
      ]
     },
     "execution_count": 420,
     "metadata": {},
     "output_type": "execute_result"
    }
   ],
   "source": [
    "gbr = GradientBoostingRegressor()\n",
    "gbr.fit(X_train, Y_train)"
   ]
  },
  {
   "cell_type": "code",
   "execution_count": 421,
   "id": "4343a073",
   "metadata": {},
   "outputs": [],
   "source": [
    "gbr_pred = gbr.predict(X_test)"
   ]
  },
  {
   "cell_type": "code",
   "execution_count": 422,
   "id": "ba153361",
   "metadata": {},
   "outputs": [
    {
     "name": "stdout",
     "output_type": "stream",
     "text": [
      "MAE: 11.702853288565326\n",
      "MSE: 274.9767406375468\n",
      "RMSE: 16.582422640782823\n"
     ]
    }
   ],
   "source": [
    "print('MAE:',metrics.mean_absolute_error(Y_test,gbr_pred ))\n",
    "print('MSE:',metrics.mean_squared_error(Y_test,gbr_pred ))\n",
    "print('RMSE:',np.sqrt(metrics.mean_squared_error(Y_test,gbr_pred )))"
   ]
  },
  {
   "cell_type": "code",
   "execution_count": 423,
   "id": "a841e73d",
   "metadata": {},
   "outputs": [],
   "source": [
    "from sklearn.linear_model import SGDRegressor"
   ]
  },
  {
   "cell_type": "code",
   "execution_count": 424,
   "id": "f7ee45e0",
   "metadata": {},
   "outputs": [],
   "source": [
    "sgdr = SGDRegressor()"
   ]
  },
  {
   "cell_type": "code",
   "execution_count": 426,
   "id": "782c8ec9",
   "metadata": {},
   "outputs": [
    {
     "name": "stderr",
     "output_type": "stream",
     "text": [
      "C:\\Users\\admin\\AppData\\Local\\Programs\\Python\\Python39\\lib\\site-packages\\sklearn\\utils\\validation.py:985: DataConversionWarning: A column-vector y was passed when a 1d array was expected. Please change the shape of y to (n_samples, ), for example using ravel().\n",
      "  y = column_or_1d(y, warn=True)\n"
     ]
    },
    {
     "data": {
      "text/plain": [
       "SGDRegressor()"
      ]
     },
     "execution_count": 426,
     "metadata": {},
     "output_type": "execute_result"
    }
   ],
   "source": [
    "sgdr.fit(X_train, Y_train)"
   ]
  },
  {
   "cell_type": "code",
   "execution_count": 427,
   "id": "4f216f36",
   "metadata": {},
   "outputs": [],
   "source": [
    "sgdr_pred = sgdr.predict(X_test)"
   ]
  },
  {
   "cell_type": "code",
   "execution_count": 428,
   "id": "43118448",
   "metadata": {},
   "outputs": [
    {
     "name": "stdout",
     "output_type": "stream",
     "text": [
      "MAE: 23981205445759.035\n",
      "MSE: 9.539723788284857e+26\n",
      "RMSE: 30886443285501.258\n"
     ]
    }
   ],
   "source": [
    "print('MAE:',metrics.mean_absolute_error(Y_test,sgdr_pred))\n",
    "print('MSE:',metrics.mean_squared_error(Y_test,sgdr_pred ))\n",
    "print('RMSE:',np.sqrt(metrics.mean_squared_error(Y_test,sgdr_pred )))"
   ]
  },
  {
   "cell_type": "code",
   "execution_count": 429,
   "id": "59510e97",
   "metadata": {},
   "outputs": [],
   "source": [
    "from sklearn.neighbors import KNeighborsRegressor"
   ]
  },
  {
   "cell_type": "code",
   "execution_count": 430,
   "id": "84d991ab",
   "metadata": {},
   "outputs": [
    {
     "data": {
      "text/plain": [
       "KNeighborsRegressor()"
      ]
     },
     "execution_count": 430,
     "metadata": {},
     "output_type": "execute_result"
    }
   ],
   "source": [
    "knn = KNeighborsRegressor()\n",
    "knn.fit(X_train, Y_train)"
   ]
  },
  {
   "cell_type": "code",
   "execution_count": 431,
   "id": "d3abf9b2",
   "metadata": {},
   "outputs": [],
   "source": [
    "knn_pred = knn.predict(X_test)"
   ]
  },
  {
   "cell_type": "code",
   "execution_count": 432,
   "id": "d3309608",
   "metadata": {},
   "outputs": [
    {
     "name": "stdout",
     "output_type": "stream",
     "text": [
      "MAE: 13.385915492957748\n",
      "MSE: 332.56225352112676\n",
      "RMSE: 18.236289466915323\n"
     ]
    }
   ],
   "source": [
    "print('MAE:',metrics.mean_absolute_error(Y_test,knn_pred))\n",
    "print('MSE:',metrics.mean_squared_error(Y_test,knn_pred ))\n",
    "print('RMSE:',np.sqrt(metrics.mean_squared_error(Y_test,knn_pred )))"
   ]
  },
  {
   "cell_type": "code",
   "execution_count": null,
   "id": "7c3a1945",
   "metadata": {},
   "outputs": [],
   "source": []
  }
 ],
 "metadata": {
  "kernelspec": {
   "display_name": "Python 3 (ipykernel)",
   "language": "python",
   "name": "python3"
  },
  "language_info": {
   "codemirror_mode": {
    "name": "ipython",
    "version": 3
   },
   "file_extension": ".py",
   "mimetype": "text/x-python",
   "name": "python",
   "nbconvert_exporter": "python",
   "pygments_lexer": "ipython3",
   "version": "3.9.8"
  }
 },
 "nbformat": 4,
 "nbformat_minor": 5
}
